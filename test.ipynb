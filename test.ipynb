{
 "cells": [
  {
   "cell_type": "code",
   "execution_count": 1,
   "metadata": {},
   "outputs": [],
   "source": [
    "import pandas as pd\n",
    "import os"
   ]
  },
  {
   "cell_type": "code",
   "execution_count": 59,
   "metadata": {},
   "outputs": [],
   "source": [
    "df = pd.read_csv('data/info.csv')\n",
    "\n",
    "df = df[df.clothes_type==1]\n",
    "\n",
    "item_id = df.item_id.drop_duplicates()\n",
    "train_id = pd.DataFrame(item_id.iloc[:int(len(item_id) * 0.8)])\n",
    "train_df = pd.merge(df, train_id, on='item_id')\n",
    "test_id = pd.DataFrame(item_id.iloc[int(len(item_id) * 0.8):])\n",
    "test_df = pd.merge(df, test_id, on='item_id')"
   ]
  },
  {
   "cell_type": "code",
   "execution_count": null,
   "metadata": {},
   "outputs": [],
   "source": []
  }
 ],
 "metadata": {
  "kernelspec": {
   "display_name": "env",
   "language": "python",
   "name": "env"
  },
  "language_info": {
   "codemirror_mode": {
    "name": "ipython",
    "version": 2
   },
   "file_extension": ".py",
   "mimetype": "text/x-python",
   "name": "python",
   "nbconvert_exporter": "python",
   "pygments_lexer": "ipython2",
   "version": "2.7.15"
  }
 },
 "nbformat": 4,
 "nbformat_minor": 2
}
